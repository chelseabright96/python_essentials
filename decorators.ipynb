{
 "cells": [
  {
   "cell_type": "markdown",
   "metadata": {},
   "source": [
    "### Decorators"
   ]
  },
  {
   "cell_type": "markdown",
   "metadata": {},
   "source": [
    "Decorators allow us to add extra functionality to our code that can be reusable for differet´nt functions. \n",
    "Decorators *wrap* existing fucntions by taking them as arguments and adding extra functionality."
   ]
  },
  {
   "cell_type": "markdown",
   "metadata": {},
   "source": [
    "**Example 1**"
   ]
  },
  {
   "cell_type": "markdown",
   "metadata": {},
   "source": [
    "In this example we will create a decorator that returns the execution time of a given function"
   ]
  },
  {
   "cell_type": "code",
   "execution_count": 1,
   "metadata": {},
   "outputs": [],
   "source": [
    "import time\n",
    "\n",
    "def calculate_time(func):\n",
    "\n",
    "    def inner1(*args,**kwargs):\n",
    "\n",
    "        begin = time.time()\n",
    "\n",
    "        func(*args,**kwargs)\n",
    "\n",
    "        end = time.time()\n",
    "\n",
    "        print(f\"Time taken to complete function {func.__name__} is {end-begin} seconds\")\n",
    "\n",
    "    return inner1\n"
   ]
  },
  {
   "cell_type": "code",
   "execution_count": 4,
   "metadata": {},
   "outputs": [
    {
     "name": "stdout",
     "output_type": "stream",
     "text": [
      "2\n",
      "Time taken to complete function factorial is 2.002686023712158 seconds\n"
     ]
    }
   ],
   "source": [
    "#calculate time for factorial function\n",
    "import math\n",
    "\n",
    "@calculate_time\n",
    "def factorial(num):\n",
    "    time.sleep(2)\n",
    "    print(math.factorial(num))\n",
    "\n",
    "factorial(2)\n"
   ]
  },
  {
   "cell_type": "markdown",
   "metadata": {},
   "source": [
    "What if we want to return the value of a function without specifying print in the wrapped function? We need to change our decorator slightly to allow for the value of our wrapped function to be returned"
   ]
  },
  {
   "cell_type": "code",
   "execution_count": 2,
   "metadata": {},
   "outputs": [],
   "source": [
    "def calculate_time(func):\n",
    "\n",
    "    def inner1(*args,**kwargs):\n",
    "\n",
    "        begin = time.time()\n",
    "\n",
    "        out = func(*args,**kwargs)\n",
    "\n",
    "        end = time.time()\n",
    "\n",
    "        print(f\"Time taken to complete function {func.__name__} is {end-begin} seconds\")\n",
    "\n",
    "        return out\n",
    "\n",
    "    return inner1"
   ]
  },
  {
   "cell_type": "code",
   "execution_count": 8,
   "metadata": {},
   "outputs": [
    {
     "name": "stdout",
     "output_type": "stream",
     "text": [
      "Time taken to complete function sum_2_values is 2.0023651123046875 seconds\n"
     ]
    },
    {
     "data": {
      "text/plain": [
       "5"
      ]
     },
     "execution_count": 8,
     "metadata": {},
     "output_type": "execute_result"
    }
   ],
   "source": [
    "a, b = (2, 3)\n",
    "@calculate_time\n",
    "def sum_2_values(a,b):\n",
    "    time.sleep(2)\n",
    "    return a+b\n",
    "\n",
    "sum_2_values(a,b)"
   ]
  },
  {
   "cell_type": "markdown",
   "metadata": {},
   "source": [
    "#### Chaining decorators"
   ]
  },
  {
   "cell_type": "markdown",
   "metadata": {},
   "source": [
    "Lets chain 2 decorators together. One decorator will allow us to calculate time taken to run our code and the other will be used to print a message before and after the function executes"
   ]
  },
  {
   "cell_type": "code",
   "execution_count": 18,
   "metadata": {},
   "outputs": [],
   "source": [
    "#Define the message decorater. Lets pretend we are training a model and want to indicate when we start and stop \n",
    "# model training\n",
    "\n",
    "def print_message(func):\n",
    "\n",
    "    def inner1(*args,**kwargs):\n",
    "\n",
    "        print(\"Start model training!\")\n",
    "\n",
    "        out = func(*args,**kwargs)\n",
    "\n",
    "        print(\"Finished model training!\")\n",
    "\n",
    "        return out\n",
    "\n",
    "    return inner1\n",
    "\n"
   ]
  },
  {
   "cell_type": "code",
   "execution_count": 4,
   "metadata": {},
   "outputs": [],
   "source": [
    "# Lets fit a line to some generated random data that has a linear relationship.\n",
    "import numpy as np\n",
    "\n",
    "x = np.linspace(1,10,50).reshape(-1,1)\n",
    "y = x + np.random.randn(50,1)\n"
   ]
  },
  {
   "cell_type": "code",
   "execution_count": 5,
   "metadata": {},
   "outputs": [
    {
     "data": {
      "text/plain": [
       "<matplotlib.collections.PathCollection at 0x7f5b4374b460>"
      ]
     },
     "execution_count": 5,
     "metadata": {},
     "output_type": "execute_result"
    },
    {
     "data": {
      "image/png": "[encoded data removed]",
      "text/plain": [
       "<Figure size 432x288 with 1 Axes>"
      ]
     },
     "metadata": {
      "needs_background": "light"
     },
     "output_type": "display_data"
    }
   ],
   "source": [
    "import matplotlib.pyplot as plt\n",
    "plt.scatter(x,y)"
   ]
  },
  {
   "cell_type": "code",
   "execution_count": 23,
   "metadata": {},
   "outputs": [],
   "source": [
    "from sklearn.linear_model import LinearRegression\n",
    "\n",
    "@calculate_time\n",
    "@print_message\n",
    "def train_linreg(x,y):\n",
    "    reg=LinearRegression()\n",
    "    reg.fit(x,y)\n",
    "    score = reg.score(x,y)\n",
    "    return f\"coefficient of determination {score}\""
   ]
  },
  {
   "cell_type": "code",
   "execution_count": 24,
   "metadata": {},
   "outputs": [
    {
     "name": "stdout",
     "output_type": "stream",
     "text": [
      "Start model training!\n",
      "Finished model training!\n",
      "Time taken to complete function inner1 is 0.004640102386474609 seconds\n"
     ]
    },
    {
     "data": {
      "text/plain": [
       "'coefficient of determination 0.8723706902985169'"
      ]
     },
     "execution_count": 24,
     "metadata": {},
     "output_type": "execute_result"
    }
   ],
   "source": [
    "train_linreg(x,y)"
   ]
  }
 ],
 "metadata": {
  "kernelspec": {
   "display_name": "pytorch_tuts",
   "language": "python",
   "name": "python3"
  },
  "language_info": {
   "codemirror_mode": {
    "name": "ipython",
    "version": 3
   },
   "file_extension": ".py",
   "mimetype": "text/x-python",
   "name": "python",
   "nbconvert_exporter": "python",
   "pygments_lexer": "ipython3",
   "version": "3.8.17"
  },
  "orig_nbformat": 4
 },
 "nbformat": 4,
 "nbformat_minor": 2
}
